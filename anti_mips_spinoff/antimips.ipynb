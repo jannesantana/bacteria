{
 "cells": [
  {
   "cell_type": "code",
   "execution_count": 9,
   "metadata": {},
   "outputs": [],
   "source": [
    "import matplotlib.pyplot as plt\n",
    "import numpy as np \n",
    "\n",
    "from matplotlib.animation import FuncAnimation\n",
    "import os\n",
    "from IPython.display import HTML\n",
    "\n"
   ]
  },
  {
   "cell_type": "markdown",
   "metadata": {},
   "source": [
    "# 2D"
   ]
  },
  {
   "cell_type": "code",
   "execution_count": null,
   "metadata": {},
   "outputs": [],
   "source": [
    "params = np.loadtxt('/home/janne/bacteria/anti_mips_spinoff/params.dat',usecols=1,dtype=None)\n",
    "N = int(params[0])\n",
    "Lx = int(params[1])\n",
    "Ly = int(params[2])\n",
    "eta = params[4]\n",
    "T  = int(params[5])\n",
    "Vo = params[-1]\n",
    "R = params[3]\n",
    "Dt = params[6]\n",
    "\n",
    "filename = f'XY_N_{N}_Lx_{Lx}_Ly_{Ly}_R_{R:g}_eta_{eta}_T_{T}_Dt_{Dt}_Vo_{Vo:g}'\n",
    "Data = np.loadtxt('/home/janne/bacteria/anti_mips_spinoff/' + filename + '.dat')\n",
    "\n",
    "X,Y,Theta = Data[:,0],Data[:,1],Data[:,2]\n",
    "\n",
    "T = len(X)//N\n",
    "\n",
    "X = np.reshape(X, (T,N))\n",
    "Y = np.reshape(Y, (T,N))\n",
    "\n",
    "Theta = np.reshape(Theta, (T,N))\n",
    "fig, ax1 = plt.subplots(figsize=(8,3.5))  \n",
    "scale = 0.5\n",
    "x,y = [], []\n"
   ]
  },
  {
   "cell_type": "code",
   "execution_count": null,
   "metadata": {},
   "outputs": [],
   "source": [
    "\n",
    "def animate(i):\n",
    "    frame_index = i\n",
    "    ax1.clear()\n",
    "    \n",
    "    Array1 = X[i]\n",
    "    Array3 = Y[i]\n",
    "    Array2 = Theta[i]\n",
    "    \n",
    "    output_folder = f'/home/janne/bacteria/anti_mips_spinoff/movies/frames_{filename}'\n",
    "    os.makedirs(output_folder, exist_ok=True)\n",
    "    \n",
    "    for posx, posy, angle in zip(Array1,Array3, Array2):\n",
    "       \n",
    "        x = posx\n",
    "        y = posy \n",
    "        dx = np.cos(angle)*scale\n",
    "        dy = np.sin(angle)*scale\n",
    "        \n",
    "        ax1.add_patch(plt.Circle((x, y), radius=0.5, fill=True, color='red'))\n",
    "        ax1.arrow(x, y, dx, dy, head_width=1.05, head_length=1.05,color='black')\n",
    "        ax1.set_title(f'frame {i}')\n",
    "        \n",
    "    ax1.set_xlim(0, Lx)\n",
    "    ax1.set_ylim(0,Ly)\n",
    "    \n",
    "    ax1.set_aspect('equal', adjustable='box')\n",
    "    \n",
    "    frame_filename = f'/home/janne/bacteria/anti_mips_spinoff/movies/frames_{filename}/frame_{frame_index:03d}.png'\n",
    "    # plt.savefig(frame_filename,dpi=300)\n",
    "    \n",
    "ani = FuncAnimation(fig,animate, frames=np.arange(T), interval=120, repeat=False,blit=False)\n",
    "plt.show() \n",
    "        \n",
    "HTML(ani.to_jshtml())"
   ]
  },
  {
   "cell_type": "markdown",
   "metadata": {},
   "source": [
    "# 1D case"
   ]
  },
  {
   "cell_type": "code",
   "execution_count": 80,
   "metadata": {},
   "outputs": [],
   "source": [
    "params = np.loadtxt('/home/janne/bacteria/anti_mips_spinoff/abs_antimips_1d/params.dat',usecols=1,dtype=None)\n",
    "N = int(params[0])\n",
    "Lx = int(params[1])\n",
    "# Ly = int(params[2])\n",
    "eta = params[3]\n",
    "T  = int(params[4])\n",
    "Vo = params[6]\n",
    "R = params[2]\n",
    "Dt = params[5]\n",
    "gamma = params[7]\n",
    "\n",
    "\n",
    "filename = f'XY_N_{N}_Lx_{Lx}_R_{R:g}_eta_{eta}_T_{T}_Dt_{Dt}_Vo_{Vo:g}_gamma_{gamma:g}'\n",
    "Data = np.loadtxt('/home/janne/bacteria/anti_mips_spinoff/abs_antimips_1d/' + filename + '.dat')\n",
    "\n",
    "X,Theta = Data[:,0],Data[:,1]\n",
    "\n",
    "T = len(X)//N\n",
    "\n",
    "X = np.reshape(X, (T,N))\n",
    "# Y = np.reshape(Y, (T,N))\n",
    "\n",
    "Theta = np.reshape(Theta, (T,N))\n",
    "\n"
   ]
  },
  {
   "cell_type": "code",
   "execution_count": 78,
   "metadata": {},
   "outputs": [
    {
     "data": {
      "image/png": "[encoded data removed]",
      "text/plain": [
       "<Figure size 900x400 with 1 Axes>"
      ]
     },
     "metadata": {},
     "output_type": "display_data"
    }
   ],
   "source": [
    "\n",
    "fig, ax1 = plt.subplots(figsize=(9,4))  \n",
    "scale = 1.8\n",
    "x,y = [], []\n",
    "for i in range(T):\n",
    "    frame_index = i\n",
    "    ax1.clear()\n",
    "    \n",
    "    Array1 = X[i]\n",
    "    # Array3 = Y[i]\n",
    "    Array2 = Theta[i]\n",
    "    \n",
    "    output_folder = f'/home/janne/bacteria/anti_mips_spinoff/abs_antimips_1d/movies/frames_{filename}'\n",
    "    os.makedirs(output_folder, exist_ok=True)\n",
    "    \n",
    "    for posx, angle in zip(Array1,Array2):\n",
    "       \n",
    "        x = posx\n",
    "        y = 0\n",
    "        dx = np.cos(angle)*scale\n",
    "        dy = np.sin(angle)*scale\n",
    "        \n",
    "        ax1.add_patch(plt.Circle((x, y), radius=0.5*scale, fill=True, color='red'))\n",
    "        ax1.arrow(x, y, dx, dy, head_width=1.05*scale, head_length=1.05*scale,color='black')\n",
    "        ax1.set_title(f'frame {i}')\n",
    "        \n",
    "    ax1.set_xlim(0, Lx)\n",
    "    ax1.set_yticks([])\n",
    "    \n",
    "    ax1.set_aspect('equal', adjustable='box')\n",
    "    \n",
    "    frame_filename = f'/home/janne/bacteria/anti_mips_spinoff/abs_antimips_1d/movies/frames_{filename}/frame_{frame_index:03d}.png'\n",
    "    plt.savefig(frame_filename,dpi=300)\n",
    "    # fig.clf()\n",
    "    \n",
    "# ani = FuncAnimation(fig,animate, frames=np.arange(T), interval=120, repeat=False,blit=False)\n",
    "# plt.show() \n",
    "        \n",
    "# HTML(ani.to_jshtml())"
   ]
  },
  {
   "cell_type": "markdown",
   "metadata": {},
   "source": [
    "# Density profile "
   ]
  },
  {
   "cell_type": "code",
   "execution_count": 2,
   "metadata": {},
   "outputs": [],
   "source": [
    "from numba import njit"
   ]
  },
  {
   "cell_type": "code",
   "execution_count": 81,
   "metadata": {},
   "outputs": [],
   "source": [
    "@njit\n",
    "def rho_prof(sigma,X2,L,T_steps,Ltotal):\n",
    "    rho = np.zeros((T_steps,L))\n",
    "    for i in range(T_steps):\n",
    "        for j in range(L):\n",
    "            aux = (Ltotal[j] - X2[i,:])**2\n",
    "            rho[i][j] = np.sum( np.exp(  -aux/(2*sigma**2)    ))\n",
    "    return rho\n",
    "\n"
   ]
  },
  {
   "cell_type": "code",
   "execution_count": 82,
   "metadata": {},
   "outputs": [],
   "source": [
    "@njit\n",
    "def mag_prof(sigma,X2,theta2,L,T_steps,Ltotal):\n",
    "    mag = np.zeros((T_steps,L))\n",
    "    for i in range(T_steps):\n",
    "        spin=np.zeros((N,1))\n",
    "        for j in range(N):\n",
    "            if np.cos(theta2[i][j])<0:\n",
    "                spin[j]=-1\n",
    "            else:\n",
    "                spin[j]=1\n",
    "            \n",
    "        for j in range(L):\n",
    "            aux = spin.T*np.exp(-(Ltotal[j] - X2[i,:])**2/(2*sigma**2)) \n",
    "            mag[i][j] = np.sum(aux)\n",
    "    return mag"
   ]
  },
  {
   "cell_type": "code",
   "execution_count": 89,
   "metadata": {},
   "outputs": [],
   "source": [
    "sigma=4\n",
    "rho = rho_prof(sigma,X,Lx,T,np.arange(Lx))\n",
    "mag = mag_prof(sigma,X,Theta,Lx,T,np.arange(Lx))"
   ]
  },
  {
   "cell_type": "code",
   "execution_count": 87,
   "metadata": {},
   "outputs": [],
   "source": [
    "def plot_density_profile(rho,mag,L,N,time,sigma,filename,save=None):\n",
    "    x = np.arange(L)\n",
    "    \n",
    "    # for i in range(579,590):\n",
    "    fig, ax = plt.subplots(figsize=(5,4))\n",
    "    f = rho[time]\n",
    "    g = mag[time]\n",
    "    norm = N/np.trapz(f,dx=sigma)\n",
    "    f = f*norm\n",
    "    g = g/N\n",
    "    \n",
    "    # ax.set_xlim(0,500)\n",
    "    # ax.set_ylim(-50,50)\n",
    "\n",
    "\n",
    "\n",
    "    # ax.set_title(r'N = %i, $\\eta = $ %0.1f, time = %i, $\\bar{\\rho} = $ %.1f' %(N,eta,Time[i],rho0))\n",
    "    ax.plot(x,f,label = r'$\\tilde{\\rho}(x,t)$', c='blue' )\n",
    "    ax.plot(x,g,label = r'$\\tilde{m}(x,t)$', c='red' )\n",
    "\n",
    "\n",
    "    # ax.tick_params(labelsize=20)\n",
    "    # ax.set_xticks((0,L/2,L))\n",
    "    # ax.set_yticks((0,400,690))\n",
    "    # ax.set_yticklabels(['0','0.5','1'])\n",
    "    ax.set_xlabel(r'$x$')\n",
    "    ax.legend(fontsize=13)\n",
    "    if save == True:\n",
    "        plt.savefig(filename,dpi=300)\n",
    "    else:\n",
    "        pass\n",
    "    return plt.close()\n",
    "\n",
    "# plot_density_profile(rho,mag,Lx,N,13,sigma,'nothing',save=False)"
   ]
  },
  {
   "cell_type": "code",
   "execution_count": 92,
   "metadata": {},
   "outputs": [],
   "source": [
    "os.makedirs('/home/janne/bacteria/anti_mips_spinoff/abs_antimips_1d/density_profs/' + filename,exist_ok = True)\n",
    "for time in range(600,T):\n",
    "    \n",
    "    name = f'/home/janne/bacteria/anti_mips_spinoff/abs_antimips_1d/density_profs/' + filename + f'/frame_{time:04d}.png'\n",
    "    plot_density_profile(rho,mag,Lx,N,time,sigma,name,save=True)"
   ]
  },
  {
   "cell_type": "code",
   "execution_count": null,
   "metadata": {},
   "outputs": [],
   "source": [
    "import pandas as pd\n",
    "\n",
    "dataframe = pd.DataFrame('/')"
   ]
  }
 ],
 "metadata": {
  "kernelspec": {
   "display_name": "Python 3",
   "language": "python",
   "name": "python3"
  },
  "language_info": {
   "codemirror_mode": {
    "name": "ipython",
    "version": 3
   },
   "file_extension": ".py",
   "mimetype": "text/x-python",
   "name": "python",
   "nbconvert_exporter": "python",
   "pygments_lexer": "ipython3",
   "version": "3.10.12"
  }
 },
 "nbformat": 4,
 "nbformat_minor": 2
}
