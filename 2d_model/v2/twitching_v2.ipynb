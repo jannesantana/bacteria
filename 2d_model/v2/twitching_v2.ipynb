{
 "cells": [
  {
   "cell_type": "code",
   "execution_count": 1,
   "metadata": {},
   "outputs": [],
   "source": [
    "import matplotlib.pyplot as plt\n",
    "import numpy as np\n",
    "import matplotlib\n",
    "\n",
    "\n",
    "matplotlib.rcParams['mathtext.fontset'] = 'stix'\n",
    "matplotlib.rcParams['font.family'] = 'STIXGeneral'\n",
    "matplotlib.rcParams['font.size'] = 25\n",
    "import os\n",
    "import subprocess"
   ]
  },
  {
   "cell_type": "code",
   "execution_count": 13,
   "metadata": {},
   "outputs": [],
   "source": [
    "def movie_maker(folder_name,X,Y,T0,Tf,BOX_SIZE):\n",
    "    fig, ax1 = plt.subplots(figsize=(5,5))\n",
    "    for time in range(T0,Tf):\n",
    "        ax1.clear()\n",
    "        Xnow = X[time]\n",
    "        Ynow = Y[time]\n",
    "        # Xnext = X[time+1]\n",
    "        # Ynext = Y[time+1]\n",
    "        # Xp_now = Xp[time]\n",
    "        # Yp_now = Yp[time]\n",
    "        for posx, posy in zip(Xnow, Ynow):\n",
    "            # lx= abs(-dx + posx)\n",
    "            # ly = abs(-dy + posy)\n",
    "            ax1.add_patch(plt.Circle((posx, posy), radius=0.15, fill=True,color='red'))\n",
    "            # if lx >= BOX_SIZE/2 or ly >= BOX_SIZE/2:\n",
    "            #     ax1.plot(posx,posy,lw=0,marker='o',ms=0.01)\n",
    "            # else:\n",
    "            #     ax1.plot(np.array([posx,dx]),np.array([posy,dy]))\n",
    "            \n",
    "            \n",
    "            ax1.set_title(f'time {time}',fontsize=12,loc='left')\n",
    "            \n",
    "        ax1.set_xlim(0,BOX_SIZE)\n",
    "        ax1.set_ylim(0,BOX_SIZE)\n",
    "        # ax1.set_xticks([0,BOX_SIZE//2, BOX_SIZE])\n",
    "        # ax1.set_yticks([0,BOX_SIZE//2, BOX_SIZE])\n",
    "        ax1.set_xticks([0,BOX_SIZE])\n",
    "        ax1.set_xticklabels([0,BOX_SIZE])\n",
    "        ax1.set_yticks([])\n",
    "        ax1.set_xlabel(r'$x$')\n",
    "        ax1.set_ylabel(r'$y$')\n",
    "        # ax1.set_aspect('equal', adjustable='box')\n",
    "        plt.tight_layout()\n",
    "        plt.savefig(f\"{folder_name}/positions_{time:03d}.png\",dpi=200,bbox_inches='tight')\n",
    "    plt.show()\n",
    "    return None"
   ]
  },
  {
   "cell_type": "code",
   "execution_count": 16,
   "metadata": {},
   "outputs": [
    {
     "data": {
      "text/plain": [
       "'Dt_0.01_Nparticles_200_T_1000_box_10_cutoff_4_epsilon_1_kspring_4_lo_0.8_rate_20_sigma_0.15'"
      ]
     },
     "execution_count": 16,
     "metadata": {},
     "output_type": "execute_result"
    }
   ],
   "source": [
    "Dt=0.01\n",
    "Nparticles=200\n",
    "T=1000\n",
    "box=10\n",
    "cutoff=4\n",
    "epsilon=1\n",
    "kspring=4\n",
    "lo=0.8\n",
    "rate=20\n",
    "sigma=0.15\n",
    "\n",
    "folder_name=f\"Dt_{Dt}_Nparticles_{Nparticles}_T_{T}_box_{box}_cutoff_{cutoff}_epsilon_{epsilon}_kspring_{kspring}_lo_{lo}_rate_{rate}_sigma_{sigma}\"\n",
    "positions_file = f\"{folder_name}/particle_positions_{folder_name}.dat\"\n",
    "squared_disp_file = f\"{folder_name}/squared_disp_{folder_name}.dat\"\n",
    "\n",
    "X,Y,Theta = np.loadtxt(positions_file, unpack=True)\n",
    "Steps = len(X)//Nparticles\n",
    "X = X.reshape((Steps, Nparticles))\n",
    "Y = Y.reshape((Steps, Nparticles))\n",
    "Theta = Theta.reshape((Steps,Nparticles))\n",
    "folder_name"
   ]
  },
  {
   "cell_type": "code",
   "execution_count": null,
   "metadata": {},
   "outputs": [],
   "source": [
    "\n",
    "movie_maker(folder_name,X,Y,100,Steps,box)\n",
    "# ffmpeg -r 25 -i 'positions_%03d.png' -vf \"crop=trunc(iw/2)*2:trunc(ih/2)*2\"  -pix_fmt yuv420p movie.mp4"
   ]
  },
  {
   "cell_type": "code",
   "execution_count": null,
   "metadata": {},
   "outputs": [],
   "source": []
  }
 ],
 "metadata": {
  "kernelspec": {
   "display_name": "base",
   "language": "python",
   "name": "python3"
  },
  "language_info": {
   "codemirror_mode": {
    "name": "ipython",
    "version": 3
   },
   "file_extension": ".py",
   "mimetype": "text/x-python",
   "name": "python",
   "nbconvert_exporter": "python",
   "pygments_lexer": "ipython3",
   "version": "3.8.16"
  }
 },
 "nbformat": 4,
 "nbformat_minor": 2
}
